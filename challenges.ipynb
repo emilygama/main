{
 "cells": [
  {
   "cell_type": "markdown",
   "id": "5c683a87-4e8c-4d67-a44a-64072fc2a9b2",
   "metadata": {},
   "source": [
    "Joker Gamble Challenge on CodeWars"
   ]
  },
  {
   "cell_type": "code",
   "execution_count": 1,
   "id": "300b56d1-6056-4263-bd2b-82c5f0f7c7b1",
   "metadata": {},
   "outputs": [
    {
     "data": {
      "text/plain": [
       "['I type', 'II type', 'Losing card', 'V type']"
      ]
     },
     "execution_count": 1,
     "metadata": {},
     "output_type": "execute_result"
    }
   ],
   "source": [
    "# def joker_card(joker_nums, ticket_serials):\n",
    "#     decisions = []\n",
    "#     string = ''.join([str(x).zfill(2) for x in joker_nums])\n",
    "#     joker = ''.join([string[i:i+1] for i in range(len(string))][1::2])\n",
    "#     for ticket in range(len(ticket_serials)):\n",
    "#         ticket = [[str(ticket)] for ticket in ticket_serials]\n",
    "#         for n in ticket:\n",
    "#             if joker == ticket[0]:\n",
    "#                 decisions.append('I type')\n",
    "#             elif joker[1:6] == ticket:\n",
    "#                 decisions.append('II type')\n",
    "#             elif joker[2:6] == ticket[2:6]:\n",
    "#                 decisions.append('III type')\n",
    "#             elif joker[3:6] == ticket[3:6]:\n",
    "#                 decisions.append('IV type')\n",
    "#             elif joker[4:6] == ticket[4:6]:\n",
    "#                 decisions.append('V type')\n",
    "#             else:\n",
    "#                 decisions.append('Losing card')\n",
    "#     return decisions\n",
    "#     ticket = list(''.join(map(str, ticket_serials)))\n",
    "    \n",
    "match = ['I type','II type','III type','IV type','V type','Losing card','Losing card']\n",
    "\n",
    "def joker_card(joker_nums, ticket_serials):\n",
    "    z = ''.join(str(n%10) for n in joker_nums)\n",
    "    return [match[next(i for i in range(7) if z[i:]==t[i:])] for t in ticket_serials]\n",
    "joker_card([12, 35, 1, 2, 23, 39], ['251239', '151239', '251229', '251339'])\n"
   ]
  },
  {
   "cell_type": "code",
   "execution_count": null,
   "id": "eeab2961-21f1-466d-8c56-f610dbb9198a",
   "metadata": {},
   "outputs": [],
   "source": []
  }
 ],
 "metadata": {
  "kernelspec": {
   "display_name": "Python 3",
   "language": "python",
   "name": "python3"
  },
  "language_info": {
   "codemirror_mode": {
    "name": "ipython",
    "version": 3
   },
   "file_extension": ".py",
   "mimetype": "text/x-python",
   "name": "python",
   "nbconvert_exporter": "python",
   "pygments_lexer": "ipython3",
   "version": "3.8.8"
  }
 },
 "nbformat": 4,
 "nbformat_minor": 5
}
