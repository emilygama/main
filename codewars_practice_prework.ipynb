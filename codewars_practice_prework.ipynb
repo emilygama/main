{
 "cells": [
  {
   "cell_type": "code",
   "execution_count": 1,
   "id": "ef9be915-6bc5-4e8c-8983-ef39a12849a2",
   "metadata": {},
   "outputs": [
    {
     "name": "stdout",
     "output_type": "stream",
     "text": [
      "11\n",
      "-3\n",
      "25\n",
      "7.0\n",
      "8\n"
     ]
    }
   ],
   "source": [
    "## Basic Mathematical Operations\n",
    "def basic_op(operator, value1, value2):\n",
    "  if operator == '+': return value1 + value2\n",
    "  if operator == '-': return value1 - value2\n",
    "  if operator == '*': return value1 * value2\n",
    "  if operator == '/': return value1 / value2\n",
    "print(basic_op('+', 4, 7))\n",
    "print(basic_op('-', 15, 18))\n",
    "print(basic_op('*', 5, 5))\n",
    "print(basic_op('/', 49, 7))\n",
    "## Alternative and simpler way to do the first one\n",
    "def basic_op1(operator, value1, value2):\n",
    "  return eval(str(value1) + operator + str(value2))\n",
    "print(basic_op1('*', 2, 4))"
   ]
  },
  {
   "cell_type": "code",
   "execution_count": 2,
   "id": "1d4d763b-b567-4df0-a806-cf401d4e52fb",
   "metadata": {},
   "outputs": [
    {
     "name": "stdout",
     "output_type": "stream",
     "text": [
      "Odd\n",
      "Even\n",
      "Odd\n",
      "Even\n"
     ]
    }
   ],
   "source": [
    "## Even Or Odd\n",
    "def even_or_odd(number):\n",
    "  if number % 2 == 0:\n",
    "    return 'Even'\n",
    "  else:\n",
    "    return 'Odd'\n",
    "print(even_or_odd(5))\n",
    "print(even_or_odd(4))\n",
    "print(even_or_odd(729837))\n",
    "print(even_or_odd(2485004))"
   ]
  },
  {
   "cell_type": "code",
   "execution_count": 4,
   "id": "610413ac-3cbd-40df-bd77-295e125bb6d1",
   "metadata": {},
   "outputs": [
    {
     "name": "stdout",
     "output_type": "stream",
     "text": [
      "20\n"
     ]
    }
   ],
   "source": [
    "## Sum of Positives\n",
    "def positive_sum(arr):\n",
    "  total = 0\n",
    "  for i in arr:\n",
    "    if i > 0:\n",
    "      total += i\n",
    "  return total \n",
    "arr = [3, -7, -4, 13, 4]\n",
    "print(positive_sum(arr))\n",
    "## It would be interesting to try to use list comprehension on the one above instead of writing it out. \n",
    "# Will need to ask about that in class."
   ]
  },
  {
   "cell_type": "code",
   "execution_count": 5,
   "id": "6f1932e1-5d26-42ac-971d-d5e344785e9a",
   "metadata": {},
   "outputs": [
    {
     "name": "stdout",
     "output_type": "stream",
     "text": [
      "catcatcatcat\n",
      "hhhhhhhhh\n"
     ]
    }
   ],
   "source": [
    "## String Repeat\n",
    "def repeat_str(n, str):\n",
    "  return str * n\n",
    "print(repeat_str(4, 'cat'))\n",
    "print(repeat_str(9, 'h'))\n",
    "## The solution the instructor does first uses a for loop and range written below\n",
    "def repeat_str(repeat, string):\n",
    "    substring = \"\"\n",
    "    for i in range(repeat):\n",
    "        substring += string\n",
    "    return substring "
   ]
  },
  {
   "cell_type": "code",
   "execution_count": 6,
   "id": "2e42f6a4-7cd7-4a62-9d98-2bc1ec74fe90",
   "metadata": {},
   "outputs": [
    {
     "name": "stdout",
     "output_type": "stream",
     "text": [
      "Max =  55 , Min =  1\n"
     ]
    }
   ],
   "source": [
    "## Find Maximum and Minimum Values of a List \n",
    "def maximum(arr):\n",
    "  return max(arr)\n",
    "def minimum(arr):\n",
    "  return min(arr)\n",
    "arr = (6,2,7,3,1,55,2)\n",
    "print('Max = ', maximum(arr), ', Min = ', minimum(arr))"
   ]
  },
  {
   "cell_type": "code",
   "execution_count": 7,
   "id": "881b5272-1aaf-42d5-9558-2605cae2ee85",
   "metadata": {},
   "outputs": [
    {
     "name": "stdout",
     "output_type": "stream",
     "text": [
      "found the needle at position  1\n",
      "found the needle at position 1\n"
     ]
    }
   ],
   "source": [
    "## A Needle in the Haystack\n",
    "def find_needle(arr):\n",
    "  for x in arr:\n",
    "    if x == 'needle':\n",
    "      return arr.index('needle')\n",
    "arr = (['hay', 'needle', 'hay', 'stack', 'hay'])\n",
    "print('found the needle at position ', find_needle(arr))\n",
    "## The above works here but not in CodeWars and I'm unsure why\n",
    "## Below is from google using ENUMERATE\n",
    "def find_needle(haystack):\n",
    "  for i,word in enumerate(haystack):\n",
    "    if word == 'needle': \n",
    "      return 'found the needle at position ' + str(i)\n",
    "arr = ('hay', 'needle', 'hay', 'stack', 'hay')\n",
    "print(find_needle(arr))\n",
    "## This is the solution from the instructor "
   ]
  },
  {
   "cell_type": "code",
   "execution_count": 8,
   "id": "b63e63ec-d064-4148-8502-fadf3f968ea9",
   "metadata": {},
   "outputs": [
    {
     "name": "stdout",
     "output_type": "stream",
     "text": [
      "mom ru\n"
     ]
    }
   ],
   "source": [
    "## Reversed Strings \n",
    "def solution(string):\n",
    "  return string[::-1]\n",
    "string = 'ur mom'\n",
    "print(solution(string))"
   ]
  },
  {
   "cell_type": "code",
   "execution_count": 9,
   "id": "56f0fcbd-1749-438c-a29b-98094aad147b",
   "metadata": {},
   "outputs": [
    {
     "name": "stdout",
     "output_type": "stream",
     "text": [
      "7\n"
     ]
    }
   ],
   "source": [
    "## Sum of Two Lowest Positive Integers\n",
    "def sum_two_smallest_numbers(numbers):\n",
    "  num = sorted(numbers)\n",
    "  return num[0] + num[1]\n",
    "numbers = [19, 5, 42, 2, 77]\n",
    "print(sum_two_smallest_numbers(numbers))\n",
    "## I could have used numbers.sort() and then done the same index pull"
   ]
  },
  {
   "cell_type": "code",
   "execution_count": 10,
   "id": "849d5ee7-99e9-47bc-b3b3-5ccc492abb22",
   "metadata": {},
   "outputs": [
    {
     "name": "stdout",
     "output_type": "stream",
     "text": [
      "9 1\n"
     ]
    }
   ],
   "source": [
    "## Highest and Lowest \n",
    "def high_and_low(numbers):\n",
    "\thigh = max([int(x) for x in numbers.split()])\n",
    "\tlow = min([int(x) for x in numbers.split()])\n",
    "\tresult = str(high) + ' ' + str(low)\n",
    "\treturn result \n",
    "numbers = '3 6 9 1 5'\n",
    "print(high_and_low(numbers))\n",
    "## This one was difficult for me and I needed to research potential solutions and help before I watched the instructor's \n",
    "# solution. Which, BTW, was very different from my solution. Maybe because we haven't 'learned' list comprehension yet?"
   ]
  },
  {
   "cell_type": "code",
   "execution_count": 12,
   "id": "8b553c25-0af7-4c38-96b6-940321210e14",
   "metadata": {},
   "outputs": [
    {
     "name": "stdout",
     "output_type": "stream",
     "text": [
      "2\n"
     ]
    }
   ],
   "source": [
    "## Simple Consecutive Pairs\n",
    "## This was my first attempt at slving this, and obviously it didn't work. But I wanted to keep it on here to show \n",
    "# my learning. Solution from instructor. \n",
    "## def pairs(arr):\n",
    "#  count = 0\n",
    "#  for x,y in range(len(arr)):\n",
    "#    if x == y + 1 or x == y - 1:\n",
    "#      count = count + 1\n",
    "#  return count\n",
    "#arr = (2, 3, -6, -5, 9, 1, 2)\n",
    "#print(pairs(arr))\n",
    "def pairs(arr):\n",
    "  if len(arr) % 2 == 1:\n",
    "    arr = arr[0:-1]\n",
    "  count = 0\n",
    "  for i in range(0, len(arr), 2):\n",
    "    first = arr[i]\n",
    "    second = arr[i+1]\n",
    "    if first + 1 == second or first - 1 == second:\n",
    "      count += 1\n",
    "  return count\n",
    "arr = (2, 3, -6, -5, 9, 1, 2)\n",
    "print(pairs(arr))"
   ]
  },
  {
   "cell_type": "code",
   "execution_count": 15,
   "id": "3cb557fa-16c6-4863-a897-78c4fff0555b",
   "metadata": {},
   "outputs": [
    {
     "name": "stdout",
     "output_type": "stream",
     "text": [
      "[4, 3, 1, 1, 1]\n"
     ]
    }
   ],
   "source": [
    "## Rectangle Into Squares \n",
    "## This one is difficult for me as I haven't done any like this yet. Logically, I am thinking that if the length \n",
    "# and width are equal, it's already a square so we are to ignore that. Otherwise, either length or width must be \n",
    "# greater than the other to be a true rectangle. We need the function to essentially list the greatest commmon \n",
    "# denominators of the two numbers.\n",
    "def sort_sides(lng, wdth):\n",
    "  return sorted([lng, wdth])\n",
    "  # Why does it need brackets here? Will need to ask instructor. Assuming that to make it a \"single\" input because \n",
    "#     it's a list, but what is the ultimate function of the brackets there?\n",
    "def sqInRect(lng, wdth):\n",
    "  if lng == wdth:\n",
    "    return None\n",
    "  small, large = sort_sides(lng, wdth)\n",
    "  squares = []\n",
    "  while small > 0:\n",
    "    squares.append(small)\n",
    "    new_side = large - small\n",
    "    small, large = sort_sides(new_side, small)\n",
    "  return squares\n",
    "print(sqInRect(4,7))\n",
    "## Logic: The biggest square from the rectangle will always be the length. That will be true until the length is \n",
    "# zero and you have all the squares completed."
   ]
  },
  {
   "cell_type": "code",
   "execution_count": 14,
   "id": "179f192d-414f-4df3-959c-f19e3fda1a11",
   "metadata": {},
   "outputs": [
    {
     "name": "stdout",
     "output_type": "stream",
     "text": [
      "WE ARE THE CHAMPIONS MY FRIEND\n"
     ]
    }
   ],
   "source": [
    "## Dubstep (retired)\n",
    "def song_decoder(song):\n",
    "  return ' '.join(song.replace('WUB', ' ').split())\n",
    "print(song_decoder(\"WUBWEWUBAREWUBWUBTHEWUBCHAMPIONSWUBMYWUBFRIENDWUB\"))"
   ]
  },
  {
   "cell_type": "code",
   "execution_count": null,
   "id": "8c4d895d-ea81-4ad4-a971-aff20dd509c5",
   "metadata": {},
   "outputs": [],
   "source": []
  },
  {
   "cell_type": "code",
   "execution_count": null,
   "id": "21e40b60-b8db-41ce-883d-af9a780ee148",
   "metadata": {},
   "outputs": [],
   "source": []
  },
  {
   "cell_type": "code",
   "execution_count": null,
   "id": "69023286-413c-44d9-94d0-69ac5b831cbc",
   "metadata": {},
   "outputs": [],
   "source": []
  },
  {
   "cell_type": "code",
   "execution_count": 1,
   "id": "0dca4781-dc23-46f0-aa5c-8810ce49b6c6",
   "metadata": {},
   "outputs": [
    {
     "name": "stdout",
     "output_type": "stream",
     "text": [
      "Hello Data Science World!\n"
     ]
    }
   ],
   "source": [
    "print('Hello Data Science World!')"
   ]
  },
  {
   "cell_type": "code",
   "execution_count": null,
   "id": "a356e80b-dd22-4320-8143-68b857a194c8",
   "metadata": {},
   "outputs": [],
   "source": []
  }
 ],
 "metadata": {
  "kernelspec": {
   "display_name": "Python 3",
   "language": "python",
   "name": "python3"
  },
  "language_info": {
   "codemirror_mode": {
    "name": "ipython",
    "version": 3
   },
   "file_extension": ".py",
   "mimetype": "text/x-python",
   "name": "python",
   "nbconvert_exporter": "python",
   "pygments_lexer": "ipython3",
   "version": "3.8.8"
  }
 },
 "nbformat": 4,
 "nbformat_minor": 5
}
