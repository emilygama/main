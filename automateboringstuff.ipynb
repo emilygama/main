{
 "cells": [
  {
   "cell_type": "code",
   "execution_count": 1,
   "id": "67e6d48e-03c5-4598-bc11-da07bf61cc6e",
   "metadata": {},
   "outputs": [
    {
     "data": {
      "text/plain": [
       "4"
      ]
     },
     "execution_count": 1,
     "metadata": {},
     "output_type": "execute_result"
    }
   ],
   "source": [
    "2+2"
   ]
  },
  {
   "cell_type": "code",
   "execution_count": 2,
   "id": "f93bf00a-f7ef-429c-8e22-47a1935c543a",
   "metadata": {},
   "outputs": [
    {
     "data": {
      "text/plain": [
       "2"
      ]
     },
     "execution_count": 2,
     "metadata": {},
     "output_type": "execute_result"
    }
   ],
   "source": [
    "2"
   ]
  },
  {
   "cell_type": "code",
   "execution_count": 3,
   "id": "9c9eeddd-130d-4756-9ee2-b2e7d221c259",
   "metadata": {},
   "outputs": [
    {
     "data": {
      "text/plain": [
       "2"
      ]
     },
     "execution_count": 3,
     "metadata": {},
     "output_type": "execute_result"
    }
   ],
   "source": [
    "5-3"
   ]
  },
  {
   "cell_type": "code",
   "execution_count": 4,
   "id": "1fa6cded-745b-461f-ad5b-948a7b4b47b1",
   "metadata": {},
   "outputs": [
    {
     "data": {
      "text/plain": [
       "21"
      ]
     },
     "execution_count": 4,
     "metadata": {},
     "output_type": "execute_result"
    }
   ],
   "source": [
    "7*3"
   ]
  },
  {
   "cell_type": "code",
   "execution_count": 5,
   "id": "58273075-d275-41ce-8786-39f798100248",
   "metadata": {},
   "outputs": [
    {
     "data": {
      "text/plain": [
       "3.142857142857143"
      ]
     },
     "execution_count": 5,
     "metadata": {},
     "output_type": "execute_result"
    }
   ],
   "source": [
    "22/7"
   ]
  },
  {
   "cell_type": "code",
   "execution_count": 6,
   "id": "5a77f329-2829-472e-a646-ec84dfdaf8d5",
   "metadata": {},
   "outputs": [],
   "source": [
    "spam = 'Hello'"
   ]
  },
  {
   "cell_type": "code",
   "execution_count": 7,
   "id": "ea5af32b-4337-46c1-b28a-6fb7213945fd",
   "metadata": {},
   "outputs": [
    {
     "data": {
      "text/plain": [
       "'Hello World!'"
      ]
     },
     "execution_count": 7,
     "metadata": {},
     "output_type": "execute_result"
    }
   ],
   "source": [
    "spam + ' World!'"
   ]
  },
  {
   "cell_type": "code",
   "execution_count": 8,
   "id": "2309fb80-44bc-40bb-a577-a71c64a934ec",
   "metadata": {},
   "outputs": [],
   "source": [
    "spam = 'Goodbye'"
   ]
  },
  {
   "cell_type": "code",
   "execution_count": 9,
   "id": "766aa4a1-b8a4-45a8-8759-9edacbe9717e",
   "metadata": {},
   "outputs": [
    {
     "data": {
      "text/plain": [
       "'Goodbye World!'"
      ]
     },
     "execution_count": 9,
     "metadata": {},
     "output_type": "execute_result"
    }
   ],
   "source": [
    "spam + ' World!'"
   ]
  },
  {
   "cell_type": "code",
   "execution_count": 10,
   "id": "f4b3b13d-7e55-4207-b85a-20142ee5b1d7",
   "metadata": {},
   "outputs": [],
   "source": [
    "spam = 2+2"
   ]
  },
  {
   "cell_type": "code",
   "execution_count": 11,
   "id": "028fcd12-49e5-4e97-bc0f-f75b70eb0360",
   "metadata": {},
   "outputs": [
    {
     "data": {
      "text/plain": [
       "4"
      ]
     },
     "execution_count": 11,
     "metadata": {},
     "output_type": "execute_result"
    }
   ],
   "source": [
    "spam"
   ]
  },
  {
   "cell_type": "code",
   "execution_count": 12,
   "id": "569f4777-c4b1-4269-a6ef-7b4c985407c4",
   "metadata": {},
   "outputs": [],
   "source": [
    "spam = 10"
   ]
  },
  {
   "cell_type": "code",
   "execution_count": 13,
   "id": "206a0ca0-2b59-4d47-b67c-b8582178bea4",
   "metadata": {},
   "outputs": [],
   "source": [
    "spam = spam + 1"
   ]
  },
  {
   "cell_type": "code",
   "execution_count": 14,
   "id": "ad2f6e11-1028-4814-bd45-844c24b29f84",
   "metadata": {},
   "outputs": [
    {
     "data": {
      "text/plain": [
       "11"
      ]
     },
     "execution_count": 14,
     "metadata": {},
     "output_type": "execute_result"
    }
   ],
   "source": [
    "spam"
   ]
  },
  {
   "cell_type": "code",
   "execution_count": null,
   "id": "5b6509b3-8e12-4653-beb3-92f08913d310",
   "metadata": {},
   "outputs": [],
   "source": []
  }
 ],
 "metadata": {
  "kernelspec": {
   "display_name": "Python 3",
   "language": "python",
   "name": "python3"
  },
  "language_info": {
   "codemirror_mode": {
    "name": "ipython",
    "version": 3
   },
   "file_extension": ".py",
   "mimetype": "text/x-python",
   "name": "python",
   "nbconvert_exporter": "python",
   "pygments_lexer": "ipython3",
   "version": "3.8.8"
  }
 },
 "nbformat": 4,
 "nbformat_minor": 5
}
