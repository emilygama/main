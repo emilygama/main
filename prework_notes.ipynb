{
 "cells": [
  {
   "cell_type": "code",
   "execution_count": 6,
   "id": "52a19d3c-65d2-430b-856f-7a6e1d583c8a",
   "metadata": {},
   "outputs": [
    {
     "name": "stdout",
     "output_type": "stream",
     "text": [
      "Hello World!\n",
      "4\n",
      "hellohellohello\n",
      "15\n",
      "2\n",
      "3\n",
      "5\n",
      "Done!\n",
      "4\n",
      "45\n"
     ]
    },
    {
     "name": "stdin",
     "output_type": "stream",
     "text": [
      "What is your name?  Emily\n"
     ]
    },
    {
     "name": "stdout",
     "output_type": "stream",
     "text": [
      "Your name is Emily\n",
      "Type yes to continue\n"
     ]
    },
    {
     "name": "stdin",
     "output_type": "stream",
     "text": [
      "Do you want to quit the loop?  No\n"
     ]
    },
    {
     "name": "stdout",
     "output_type": "stream",
     "text": [
      "Please type \"yes\" so we can exit this loop\n"
     ]
    },
    {
     "name": "stdin",
     "output_type": "stream",
     "text": [
      "Do you want to quit the loop?  Yes\n"
     ]
    },
    {
     "name": "stdout",
     "output_type": "stream",
     "text": [
      "Thank you for typing \"yes\"\n",
      "4\n",
      "Counter is currently 0\n",
      "Counter is currently 1\n",
      "Counter is currently 2\n",
      "Counter is currently 3\n",
      "Counter is currently 4\n",
      "Counter is currently 5\n",
      "Counter is currently 6\n",
      "Counter is currently 7\n",
      "Counter is currently 8\n",
      "Counter is currently 9\n",
      "We are out of this loop. The value of counter is 10\n",
      "16\n",
      "4\n"
     ]
    }
   ],
   "source": [
    "## Just notes from pre-work and introductory course\n",
    "print('Hello World!')\n",
    "num_cookies = 4\n",
    "print(num_cookies)\n",
    "print('hello'*3)\n",
    "total = 0\n",
    "for num in [0,1,2,3,4,5]:\n",
    "  total += num\n",
    "print(total)\n",
    "primes = [2,3,5]\n",
    "for prime_number in primes:\n",
    "  print(prime_number)\n",
    "print('Done!')\n",
    "print(num_cookies)\n",
    "total = 0\n",
    "for num in range(5,15,2):\n",
    "  total += num\n",
    "print(total)\n",
    "name = input('What is your name? ')\n",
    "print('Your name is', name)\n",
    "print('Type yes to continue')\n",
    "while input('Do you want to quit the loop? ') != 'Yes':\n",
    "  print('Please type \"yes\" so we can exit this loop')\n",
    "print('Thank you for typing \"yes\"')\n",
    "print(num_cookies)\n",
    "counter = 0 \n",
    "while counter < 10:\n",
    "  print('Counter is currently', counter)\n",
    "  counter += 1\n",
    "print('We are out of this loop. The value of counter is', counter)\n",
    "x = 1\n",
    "while x < 10:\n",
    "  x = x * 2\n",
    "print(x)\n",
    "print(num_cookies)"
   ]
  },
  {
   "cell_type": "code",
   "execution_count": 2,
   "id": "be22b63c-cf72-405e-936b-c57feb9e7450",
   "metadata": {},
   "outputs": [
    {
     "name": "stdout",
     "output_type": "stream",
     "text": [
      "['bird', 'giraffe', 'whale']\n",
      "3\n",
      "bird\n",
      "whale\n",
      "['cat', 'giraffe', 'whale']\n",
      "['cat', 'giraffe', 'whale', 'turkey', 'mouse']\n",
      "['cat', 'giraffe', 'turkey', 'mouse']\n",
      "True\n",
      "{'ACOTAR': 'SJM', 'ATOD': 'SSC', 'NGods': 'KRob'}\n",
      "3\n",
      "{'ACOTAR': 'SJM', 'ATOD': 'SSC', 'NGods': 'KRob', 'TOG': 'SJM'}\n",
      "SSC\n",
      "['shirt', 'pants', 'socks']\n",
      "['shirt', 'pants', 'socks']\n",
      "['shirt', 'pants', 'socks']\n"
     ]
    }
   ],
   "source": [
    "## Manipulating Variables\n",
    "animal_types = ['bird', 'giraffe', 'whale']\n",
    "print(animal_types)\n",
    "print(len(animal_types))\n",
    "print(animal_types[0])\n",
    "print(animal_types[2])\n",
    "animal_types[0] = 'cat'\n",
    "print(animal_types)\n",
    "animal_types.append('turkey')\n",
    "animal_types.append('mouse')\n",
    "print(animal_types)\n",
    "animal_types.pop(2)\n",
    "print(animal_types)\n",
    "days_of_week = ('Monday', 'Tuesday', 'Wednesday', 'Thursday', 'Friday', 'Saturday', 'Sunday')\n",
    "my_places_traveled = {'Costa Rica', 'Brazil', 'Chicago'}\n",
    "print('Brazil' in my_places_traveled)\n",
    "book_authors = {'ACOTAR': 'SJM', 'ATOD': 'SSC', 'NGods': 'KRob'}\n",
    "print(book_authors)\n",
    "print(len(book_authors))\n",
    "book_authors['TOG'] = 'SJM'\n",
    "print(book_authors)\n",
    "print(book_authors['ATOD'])\n",
    "packing_list = []\n",
    "packing_list.append('shirt')\n",
    "packing_list_2 = packing_list\n",
    "packing_list.append('pants')\n",
    "packing_list_3 = packing_list_2\n",
    "packing_list_3.append('socks')\n",
    "print(packing_list)\n",
    "print(packing_list_2) \n",
    "print(packing_list_3)"
   ]
  },
  {
   "cell_type": "code",
   "execution_count": 3,
   "id": "8a3083bf-f1e2-4ead-9006-bbb6725ef9a8",
   "metadata": {},
   "outputs": [
    {
     "name": "stdout",
     "output_type": "stream",
     "text": [
      "[2.1, 2.3, None, None, 8.9, None, 33.1]\n"
     ]
    }
   ],
   "source": [
    "## Error Handling\n",
    "### Converting strings to floats\n",
    "str_to_float = ['2.1', '2.3', '7,5', '$12.12', '8.9', '5%', '33.1']\n",
    "floats = []\n",
    "bad_characters = ',$%'\n",
    "for number in str_to_float:\n",
    "  corrupted = False\n",
    "  for bad_character in bad_characters:\n",
    "    if bad_character in number:\n",
    "      corrupted = True\n",
    "  if corrupted:\n",
    "    floats.append(None)\n",
    "  else:\n",
    "    floats.append(float(number))\n",
    "print(floats)"
   ]
  },
  {
   "cell_type": "code",
   "execution_count": 4,
   "id": "a71308d6-a757-492d-bcf8-69f374641106",
   "metadata": {},
   "outputs": [
    {
     "name": "stdout",
     "output_type": "stream",
     "text": [
      "[2.1, 2.3, None, None, 8.9, None, 33.1]\n",
      "Number: 2\n"
     ]
    }
   ],
   "source": [
    "### Something easier to do for thousands of entries if we had that \n",
    "str_to_float = ['2.1', '2.3', '7,5', '$12.12', '8.9', '5%', '33.1']\n",
    "floats = []\n",
    "for s in str_to_float:\n",
    "  try:\n",
    "    floats.append(float(s))\n",
    "  except: \n",
    "    floats.append(None)\n",
    "print(floats)\n",
    "### Using the RAISE function\n",
    "def no_four(number):\n",
    "  if number == 4:\n",
    "    raise ValueError('No fours allowed!')\n",
    "  else:\n",
    "    print('Number:', number)\n",
    "no_four(2)"
   ]
  },
  {
   "cell_type": "code",
   "execution_count": 5,
   "id": "3cbe24d0-d752-4d64-9d83-2e4166c848a8",
   "metadata": {},
   "outputs": [
    {
     "name": "stdout",
     "output_type": "stream",
     "text": [
      "5\n",
      "16\n",
      "38293\n",
      "pink elephant\n",
      "10\n",
      "50\n",
      "2364.0\n",
      "6.0\n"
     ]
    }
   ],
   "source": [
    "## Functions! \n",
    "## def function_name()\n",
    "##  indented line of code that tells what the function does \n",
    "def my_function(arg1):\n",
    "  var2 = arg1 + 2\n",
    "  return var2\n",
    "print(my_function(3))\n",
    "print(my_function(14))\n",
    "print(my_function(38291))\n",
    "## Adding multiple arguments to a function\n",
    "def my_printer(color, shape):\n",
    "  return color + ' ' + shape\n",
    "print(my_printer('pink', 'elephant'))\n",
    "def my_function1(arg2, arg3):\n",
    "  var1 = arg2 + arg3\n",
    "  return var1\n",
    "print(my_function1(3, 7))\n",
    "def calculator(operation, value1, value2):\n",
    "  if operation == '+': return value1 + value2\n",
    "  if operation == '-': return value1 - value2\n",
    "  if operation == '*': return value1 * value2\n",
    "  if operation == '/': return value1 / value2\n",
    "print(calculator('*', 10, 5))\n",
    "print(calculator('/', 4728, 2))\n",
    "## functions calling to other functions\n",
    "def add_numbers(num1, num2, num3):\n",
    "  return num1 + num2 + num3\n",
    "def get_average(num1, num2, num3):\n",
    "  sum_of_numbers = add_numbers(num1, num2, num3)\n",
    "  average = sum_of_numbers / 3\n",
    "  return average\n",
    "print(get_average(3,6,9))\n"
   ]
  },
  {
   "cell_type": "code",
   "execution_count": null,
   "id": "148da6e9-3f89-4933-870d-722ee182c58a",
   "metadata": {},
   "outputs": [],
   "source": []
  }
 ],
 "metadata": {
  "kernelspec": {
   "display_name": "Python 3",
   "language": "python",
   "name": "python3"
  },
  "language_info": {
   "codemirror_mode": {
    "name": "ipython",
    "version": 3
   },
   "file_extension": ".py",
   "mimetype": "text/x-python",
   "name": "python",
   "nbconvert_exporter": "python",
   "pygments_lexer": "ipython3",
   "version": "3.8.8"
  }
 },
 "nbformat": 4,
 "nbformat_minor": 5
}
